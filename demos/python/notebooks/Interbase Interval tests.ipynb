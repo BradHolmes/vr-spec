{
 "cells": [
  {
   "cell_type": "markdown",
   "metadata": {},
   "source": [
    "Simple tests for interval overlap logic"
   ]
  },
  {
   "cell_type": "code",
   "execution_count": 1,
   "metadata": {},
   "outputs": [],
   "source": [
    "from vmcdemo.interbaseinterval import InterbaseInterval\n",
    "from IPython.display import display, Markdown"
   ]
  },
  {
   "attachments": {
    "Untitled%20drawing%20%281%29.png": {
     "image/png": "[encoded data removed]"
    }
   },
   "cell_type": "markdown",
   "metadata": {},
   "source": [
    "![Untitled%20drawing%20%281%29.png](attachment:Untitled%20drawing%20%281%29.png)"
   ]
  },
  {
   "cell_type": "code",
   "execution_count": 2,
   "metadata": {},
   "outputs": [],
   "source": [
    "iis = [\n",
    "    InterbaseInterval(0,1),\n",
    "    InterbaseInterval(1,1),\n",
    "    InterbaseInterval(1,2),\n",
    "    InterbaseInterval(1,3),\n",
    "    InterbaseInterval(2,2)\n",
    "    ]"
   ]
  },
  {
   "cell_type": "code",
   "execution_count": 3,
   "metadata": {},
   "outputs": [],
   "source": [
    "def pairwise_apply(iis, method_name):\n",
    "    \"\"\"return matrix of method_name applied to iis pairs\"\"\"\n",
    "    m = getattr(InterbaseInterval, method_name)\n",
    "    return [[m(r,c) for c in iis] for r in iis]\n",
    "\n",
    "def pairwise_apply_md(iis, method_name):\n",
    "    \"\"\"return markdown table of pairwise_apply\"\"\"\n",
    "    tbl = [[\"r.{}(c)\".format(method_name)] + [str(ii) for ii in iis]]\n",
    "    tbl += [[\"-\"] * len(tbl[0])]\n",
    "    for ii, row in zip(iis, pairwise_apply(iis, method_name)):\n",
    "        tbl += [[str(ii)] + row]\n",
    "    tbl_str = \"\\n\".join([\"|\".join(map(str,row)) for row in tbl])\n",
    "    return Markdown(\"# \"+method_name + \"\\n\" + tbl_str)"
   ]
  },
  {
   "cell_type": "code",
   "execution_count": 4,
   "metadata": {},
   "outputs": [
    {
     "data": {
      "text/markdown": [
       "# encloses\n",
       "r.encloses(c)|<0,1>|<1,1>|<1,2>|<1,3>|<2,2>\n",
       "-|-|-|-|-|-\n",
       "<0,1>|True|True|False|False|False\n",
       "<1,1>|False|True|False|False|False\n",
       "<1,2>|False|True|True|False|True\n",
       "<1,3>|False|True|True|True|True\n",
       "<2,2>|False|False|False|False|True"
      ],
      "text/plain": [
       "<IPython.core.display.Markdown object>"
      ]
     },
     "metadata": {},
     "output_type": "display_data"
    },
    {
     "data": {
      "text/markdown": [
       "# overlap\n",
       "r.overlap(c)|<0,1>|<1,1>|<1,2>|<1,3>|<2,2>\n",
       "-|-|-|-|-|-\n",
       "<0,1>|1|0|0|0|-1\n",
       "<1,1>|0|0|0|0|-1\n",
       "<1,2>|0|0|1|1|0\n",
       "<1,3>|0|0|1|2|0\n",
       "<2,2>|-1|-1|0|0|0"
      ],
      "text/plain": [
       "<IPython.core.display.Markdown object>"
      ]
     },
     "metadata": {},
     "output_type": "display_data"
    },
    {
     "data": {
      "text/markdown": [
       "# overlaps\n",
       "r.overlaps(c)|<0,1>|<1,1>|<1,2>|<1,3>|<2,2>\n",
       "-|-|-|-|-|-\n",
       "<0,1>|True|True|True|True|False\n",
       "<1,1>|True|True|True|True|False\n",
       "<1,2>|True|True|True|True|True\n",
       "<1,3>|True|True|True|True|True\n",
       "<2,2>|False|False|True|True|True"
      ],
      "text/plain": [
       "<IPython.core.display.Markdown object>"
      ]
     },
     "metadata": {},
     "output_type": "display_data"
    },
    {
     "data": {
      "text/markdown": [
       "# within\n",
       "r.within(c)|<0,1>|<1,1>|<1,2>|<1,3>|<2,2>\n",
       "-|-|-|-|-|-\n",
       "<0,1>|True|False|False|False|False\n",
       "<1,1>|True|True|True|True|False\n",
       "<1,2>|False|False|True|True|False\n",
       "<1,3>|False|False|False|True|False\n",
       "<2,2>|False|False|True|True|True"
      ],
      "text/plain": [
       "<IPython.core.display.Markdown object>"
      ]
     },
     "metadata": {},
     "output_type": "display_data"
    }
   ],
   "source": [
    "for mn in \"encloses overlap overlaps within\".split():\n",
    "    display(pairwise_apply_md(iis, mn))"
   ]
  }
 ],
 "metadata": {
  "kernelspec": {
   "display_name": "Python 3",
   "language": "python",
   "name": "python3"
  },
  "language_info": {
   "codemirror_mode": {
    "name": "ipython",
    "version": 3
   },
   "file_extension": ".py",
   "mimetype": "text/x-python",
   "name": "python",
   "nbconvert_exporter": "python",
   "pygments_lexer": "ipython3",
   "version": "3.5.3"
  }
 },
 "nbformat": 4,
 "nbformat_minor": 2
}
