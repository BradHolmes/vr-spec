{
 "cells": [
  {
   "cell_type": "markdown",
   "metadata": {},
   "source": [
    "# Truncated Digest Collision Analysis\n",
    "\n",
    "The VMC Digest uses a truncated SHA-512 digest as an identifier for Location, Allele, Haplotype, and Genotype objects. This notebook discusses the choice of SHA-512 and the truncation length.\n",
    "\n",
    "## Conclusions\n",
    "\n",
    "* SHA-512 is often as fast or faster than other hash functions on modern 64-bit platforms due to the use of 64-bit instructions.\n",
    "* 24 bytes of key is *ample* for sequence variation. Arguably, we could choose much smaller.\n",
    "\n",
    "## References\n",
    "\n",
    "[1] http://nvlpubs.nist.gov/nistpubs/FIPS/NIST.FIPS.180-4.pdf  \n",
    "[2] https://tools.ietf.org/html/rfc3548#section-4  \n",
    "[3] http://stackoverflow.com/a/4014407/342839  \n",
    "[4] http://stackoverflow.com/a/22029380/342839  \n",
    "[5] http://preshing.com/20110504/hash-collision-probabilities/  \n",
    "[6] https://en.wikipedia.org/wiki/Birthday_problem\n"
   ]
  },
  {
   "cell_type": "code",
   "execution_count": 1,
   "metadata": {},
   "outputs": [],
   "source": [
    "import hashlib\n",
    "import math\n",
    "import timeit\n",
    "\n",
    "from IPython.display import display, Markdown\n",
    "\n",
    "from vmcdemo.utils import _format_time"
   ]
  },
  {
   "cell_type": "markdown",
   "metadata": {},
   "source": [
    "## Digest Timing"
   ]
  },
  {
   "cell_type": "code",
   "execution_count": 2,
   "metadata": {},
   "outputs": [],
   "source": [
    "def blob(l):\n",
    "    \"\"\"return binary blob of length l (POSIX only)\"\"\"\n",
    "    return open(\"/dev/urandom\", \"rb\").read(l)\n",
    "\n",
    "def digest(alg, blob):\n",
    "    md = hashlib.new(alg)\n",
    "    md.update(blob)\n",
    "    return md.digest()\n",
    "\n",
    "\n",
    "\n",
    "def magic_run1(alg, blob):\n",
    "    t = %timeit -o digest(alg, blob)\n",
    "    return t\n",
    "\n",
    "def magic_tfmt(t):\n",
    "    \"\"\"format TimeitResult for table\"\"\"\n",
    "    return \"{a} ± {s} ([{b}, {w}])\".format(\n",
    "        a = _format_time(t.average),\n",
    "        s = _format_time(t.stdev),\n",
    "        b = _format_time(t.best),\n",
    "        w = _format_time(t.worst),\n",
    "    )"
   ]
  },
  {
   "cell_type": "code",
   "execution_count": 3,
   "metadata": {},
   "outputs": [],
   "source": [
    "blob_lengths = [100, 1000, 10000, 100000, 1000000]\n",
    "blobs = [blob(l) for l in blob_lengths]"
   ]
  },
  {
   "cell_type": "code",
   "execution_count": 33,
   "metadata": {},
   "outputs": [
    {
     "data": {
      "text/markdown": [
       "algorithm|100|1000|10000|100000|1000000\n",
       "-|-|-|-|-|-\n",
       "md5|1.43 ms|2.96 ms|18.8 ms|143 ms|1.42 s\n",
       "sha1|1.06 ms|1.89 ms|11.2 ms|103 ms|1.02 s\n",
       "sha224|1.21 ms|3.14 ms|23.1 ms|220 ms|2.2 s\n",
       "sha256|1.28 ms|3.15 ms|23.3 ms|223 ms|2.2 s\n",
       "sha384|1.19 ms|2.59 ms|16.1 ms|171 ms|1.5 s\n",
       "sha512|1.17 ms|2.67 ms|16.7 ms|149 ms|1.47 s"
      ],
      "text/plain": [
       "<IPython.core.display.Markdown object>"
      ]
     },
     "metadata": {},
     "output_type": "display_data"
    }
   ],
   "source": [
    "table_rows = []\n",
    "table_rows += [[\"algorithm\"] + list(map(str,blob_lengths))]\n",
    "table_rows += [[\"-\"] * len(table_rows[0])]\n",
    "for alg in sorted(hashlib.algorithms_guaranteed):\n",
    "    r = [alg]\n",
    "    for i in range(len(blobs)):\n",
    "        blob = blobs[i]\n",
    "        t = timeit.timeit(stmt='digest(alg, blob)', setup='from __main__ import alg, blob, digest', number=1000)\n",
    "        r += [_format_time(t)]\n",
    "    table_rows += [r]\n",
    "table = \"\\n\".join([\"|\".join(map(str,row)) for row in table_rows])\n",
    "display(Markdown(table))"
   ]
  },
  {
   "cell_type": "markdown",
   "metadata": {},
   "source": [
    "** Conclusion: sha512 is as fast or faster than all but sha-1 (which is disfavored for cryptographic use). **"
   ]
  },
  {
   "cell_type": "markdown",
   "metadata": {},
   "source": [
    "---\n",
    "## Collision Analysis\n",
    "According to [3], the probability `P` of a collision using `b` bits with `m` messages (sequences) is:\n",
    "\n",
    "$$P(b, m) = m^2 / 2^{b+1}$$\n",
    "\n",
    "Note that the collision probability depends on the number of messages, but not their size.  Solving for the number of messages:\n",
    "\n",
    "$$m(b, P) = \\sqrt{P * 2^{b+1}}$$\n",
    "\n",
    "Solving for the minimum number of *bits* `b` as a function of an expected number of sequences `m` and a tolerance for collisions of `P`:\n",
    "\n",
    "$$b(m, P) = \\log_2{\\left(\\frac{m^2}{P}\\right)} - 1$$"
   ]
  },
  {
   "cell_type": "code",
   "execution_count": 38,
   "metadata": {
    "collapsed": true
   },
   "outputs": [],
   "source": [
    "def B(P, m):\n",
    "    \"\"\"return the number of *bytes* needed to achieve a collision probability\n",
    "    P for m messages\"\"\"\n",
    "    return math.ceil((math.log2(m / P) - 1) / 8 / 3) * 3"
   ]
  },
  {
   "cell_type": "code",
   "execution_count": 39,
   "metadata": {
    "collapsed": true
   },
   "outputs": [],
   "source": [
    "m_bins = [1E6, 1E9, 1E12, 1E15, 1E18, 1E21, 1E24]\n",
    "P_bins = [1E-24, 1E-21, 1E-18, 1E-15, 1E-12, 1E-9, 0.5]"
   ]
  },
  {
   "cell_type": "code",
   "execution_count": 40,
   "metadata": {},
   "outputs": [
    {
     "data": {
      "text/markdown": [
       "#m|P<=1e-24|P<=1e-21|P<=1e-18|P<=1e-15|P<=1e-12|P<=1e-09|P<=0.5\n",
       "-|-|-|-|-|-|-|-\n",
       "1e+06|15|12|12|9|9|9|3\n",
       "1e+09|15|15|12|12|9|9|6\n",
       "1e+12|15|15|15|12|12|9|6\n",
       "1e+15|18|15|15|15|12|12|9\n",
       "1e+18|18|18|15|15|15|12|9\n",
       "1e+21|21|18|18|15|15|15|9\n",
       "1e+24|21|21|18|18|15|15|12"
      ],
      "text/plain": [
       "<IPython.core.display.Markdown object>"
      ]
     },
     "metadata": {},
     "output_type": "display_data"
    }
   ],
   "source": [
    "table_rows = []\n",
    "table_rows += [[\"#m\"] + [\"P<={P}\".format(P=P) for P in P_bins]]\n",
    "table_rows += [[\"-\"] * len(table_rows[0])]\n",
    "for n_m in m_bins:\n",
    "    table_rows += [[\"{:g}\".format(n_m)] + [B(P, n_m) for P in P_bins]]\n",
    "table = \"\\n\".join([\"|\".join(map(str,row)) for row in table_rows])\n",
    "display(Markdown(table))"
   ]
  },
  {
   "cell_type": "markdown",
   "metadata": {
    "collapsed": true
   },
   "source": [
    "### Discussion\n",
    "\n",
    "Space considerations: The digest will be used for many objects and consume significant space at scale.\n"
   ]
  },
  {
   "cell_type": "code",
   "execution_count": null,
   "metadata": {
    "collapsed": true
   },
   "outputs": [],
   "source": []
  }
 ],
 "metadata": {
  "kernelspec": {
   "display_name": "Python 3",
   "language": "python",
   "name": "python3"
  },
  "language_info": {
   "codemirror_mode": {
    "name": "ipython",
    "version": 3
   },
   "file_extension": ".py",
   "mimetype": "text/x-python",
   "name": "python",
   "nbconvert_exporter": "python",
   "pygments_lexer": "ipython3",
   "version": "3.5.3"
  }
 },
 "nbformat": 4,
 "nbformat_minor": 2
}
