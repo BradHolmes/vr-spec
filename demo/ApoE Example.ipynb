{
 "cells": [
  {
   "cell_type": "markdown",
   "metadata": {},
   "source": [
    "# VMC Demo\n",
    "## Model Background\n",
    "\n",
    "* 4 types: Locations, Alleles, Haplotypes, Genotypes\n",
    "* Id v. Identifier\n",
    "* Objects reference by Id\n",
    "* Types have a serialization format based on Id (for now)\n",
    "* Computed Identifier is based on digest of serialized instance\n",
    "\n",
    "Types have a linear dependency:\n",
    "\n",
    "    Sequence < Location < Allele < Haplotype < Genotype\n",
    "               └Interval\n",
    "    \n",
    "## ApoE\n",
    "\n",
    "The ApoE gene is known primarily for risks associated with Alzheimer's disease and hypercholesterolemia. Risk of AD is attributed to two positions, rs429358 and rs7412. Both positions are C/T transitions.\n",
    "\n",
    "```\n",
    "                             rs7412 \n",
    "                             NC_000019.10:g.44908822\n",
    "                             C          T\n",
    "rs429358                 C   APOE-ε4    APOE-ε1\n",
    "NC_000019.10:g.44908684  T   APOE-ε3    APOE-ε2\n",
    "http://snpedia.com/index.php/APOE\n",
    "```"
   ]
  },
  {
   "cell_type": "markdown",
   "metadata": {},
   "source": [
    "## Setup"
   ]
  },
  {
   "cell_type": "code",
   "execution_count": 1,
   "metadata": {
    "collapsed": true
   },
   "outputs": [],
   "source": [
    "import collections\n",
    "import datetime\n",
    "import json\n",
    "\n",
    "import jsonschema\n",
    "\n",
    "from vmcdemo import models, computed_id, serialize, get_vmc_sequence_id, schema_path\n",
    "\n",
    "# pretty print json\n",
    "def ppj(o): print(json.dumps(json.loads(o.serialize()), indent=4, sort_keys=True))"
   ]
  },
  {
   "cell_type": "markdown",
   "metadata": {},
   "source": [
    "## Identifiers"
   ]
  },
  {
   "cell_type": "code",
   "execution_count": 2,
   "metadata": {
    "collapsed": true
   },
   "outputs": [],
   "source": [
    "identifiers = collections.defaultdict(list)"
   ]
  },
  {
   "cell_type": "markdown",
   "metadata": {},
   "source": [
    "## Sequences\n",
    "A description of sequence variation, with VMC or otherwise, requires the availability of sequences in order to define coordinate systems.  Typically sequences are referred to with an accession like NC_000019.10.  There are two issues with using sequence accessions:\n",
    "\n",
    "* Identical sequences have different names (e.g., \"NC_000019.10\" == \"CM000681.2\" == (GRCh38) \"19\" == (GRCh38 UCSC) \"chr19\").  Naive comparison of the same allele defined using different sequence name will fail.\n",
    "* With graph genomes, it will become infeasible to assign sequence identifiers.\n",
    "\n",
    "For these reasons, VMC encourages (but doesn't require) the use of computed identifiers based on a SHA512 digest, truncated to 24 bytes, and URL-safe base64 encoded.\n",
    "\n",
    "get_vmc_sequence_id returns the computed sequence identifier for a given accession."
   ]
  },
  {
   "cell_type": "code",
   "execution_count": 3,
   "metadata": {
    "collapsed": true
   },
   "outputs": [],
   "source": [
    "ir = models.Identifier(namespace=\"NCBI\", accession=\"NC_000019.10\")\n",
    "sequence_id = get_vmc_sequence_id(ir)"
   ]
  },
  {
   "cell_type": "code",
   "execution_count": 4,
   "metadata": {
    "collapsed": true
   },
   "outputs": [],
   "source": [
    "identifiers[sequence_id].append(ir)"
   ]
  },
  {
   "cell_type": "markdown",
   "metadata": {},
   "source": [
    "## Intervals and Locations\n",
    "An Interval is a <start, end> tuple, in interbase coordinates \n",
    "A Location refers to a continuous span within a sequence identified by reference."
   ]
  },
  {
   "cell_type": "code",
   "execution_count": 5,
   "metadata": {},
   "outputs": [],
   "source": [
    "locations_by_name = {\n",
    "    \"rs429358\": models.Location(\n",
    "        sequence_id = sequence_id,\n",
    "        interval = models.Interval(start=44908683, end=44908684),\n",
    "    ),\n",
    "    \"rs7412\": models.Location(\n",
    "        sequence_id = sequence_id,\n",
    "        interval=models.Interval(start=44908821, end=44908822),\n",
    "    )\n",
    "}\n",
    "for n, l in locations_by_name.items():\n",
    "    l.id = computed_id(l)\n",
    "    identifiers[l.id].append(models.Identifier(accession=n))"
   ]
  },
  {
   "cell_type": "code",
   "execution_count": 6,
   "metadata": {},
   "outputs": [
    {
     "data": {
      "text/plain": [
       "'<Location:VMC:GS_IIB53T8CNeJJdUqzn9V_JnRtQadwWCbl:<Interval:44908683:44908684>>'"
      ]
     },
     "execution_count": 6,
     "metadata": {},
     "output_type": "execute_result"
    }
   ],
   "source": [
    "# This is the string that is hashed to generate a computed identifier\n",
    "serialize(locations_by_name[\"rs429358\"])"
   ]
  },
  {
   "cell_type": "code",
   "execution_count": 7,
   "metadata": {},
   "outputs": [
    {
     "name": "stdout",
     "output_type": "stream",
     "text": [
      "{\n",
      "    \"id\": \"VMC:GL_1vQegOig0Fpx8eny8biLzexkhIAWeOZr\",\n",
      "    \"interval\": {\n",
      "        \"end\": 44908684,\n",
      "        \"start\": 44908683\n",
      "    },\n",
      "    \"sequence_id\": \"VMC:GS_IIB53T8CNeJJdUqzn9V_JnRtQadwWCbl\"\n",
      "}\n"
     ]
    }
   ],
   "source": [
    "ppj(locations_by_name[\"rs429358\"])"
   ]
  },
  {
   "cell_type": "markdown",
   "metadata": {},
   "source": [
    "## Alleles"
   ]
  },
  {
   "cell_type": "code",
   "execution_count": 8,
   "metadata": {
    "collapsed": true
   },
   "outputs": [],
   "source": [
    "alleles_by_name = {\n",
    "    \"rs429358T\": models.Allele(location_id=locations_by_name[\"rs429358\"].id, state=\"T\"),\n",
    "    \"rs429358C\": models.Allele(location_id=locations_by_name[\"rs429358\"].id, state=\"C\"),\n",
    "    \"rs7412T\":   models.Allele(location_id=locations_by_name[\"rs7412\"].id,   state=\"T\"),\n",
    "    \"rs7412C\":   models.Allele(location_id=locations_by_name[\"rs7412\"].id,   state=\"C\"),\n",
    "}\n",
    "for n, a in alleles_by_name.items():\n",
    "    a.id = computed_id(a)\n",
    "    identifiers[a.id].append(models.Identifier(accession=n))"
   ]
  },
  {
   "cell_type": "code",
   "execution_count": 9,
   "metadata": {},
   "outputs": [
    {
     "data": {
      "text/plain": [
       "'<Allele:VMC:GL_1vQegOig0Fpx8eny8biLzexkhIAWeOZr:C>'"
      ]
     },
     "execution_count": 9,
     "metadata": {},
     "output_type": "execute_result"
    }
   ],
   "source": [
    "serialize(alleles_by_name[\"rs429358C\"])"
   ]
  },
  {
   "cell_type": "code",
   "execution_count": 10,
   "metadata": {},
   "outputs": [
    {
     "name": "stdout",
     "output_type": "stream",
     "text": [
      "{\n",
      "    \"id\": \"VMC:GA_NfZPeapbh-xGxqxvGM8X2Jer4BoQJOja\",\n",
      "    \"location_id\": \"VMC:GL_1vQegOig0Fpx8eny8biLzexkhIAWeOZr\",\n",
      "    \"state\": \"C\"\n",
      "}\n"
     ]
    }
   ],
   "source": [
    "ppj(alleles_by_name[\"rs429358C\"])"
   ]
  },
  {
   "cell_type": "markdown",
   "metadata": {},
   "source": [
    "## Haplotypes"
   ]
  },
  {
   "cell_type": "code",
   "execution_count": 11,
   "metadata": {
    "collapsed": true
   },
   "outputs": [],
   "source": [
    "haplotypes_by_name = {\n",
    "    \"ε1\": models.Haplotype(\n",
    "        allele_ids = [alleles_by_name[\"rs429358C\"].id, alleles_by_name[\"rs7412T\"].id],\n",
    "        completeness = \"COMPLETE\"\n",
    "    ),\n",
    "    \"ε2\": models.Haplotype(\n",
    "        allele_ids = [alleles_by_name[\"rs429358T\"].id, alleles_by_name[\"rs7412T\"].id],\n",
    "        completeness = \"COMPLETE\"\n",
    "    ),\n",
    "    \"ε3\": models.Haplotype(\n",
    "        allele_ids = [alleles_by_name[\"rs429358T\"].id, alleles_by_name[\"rs7412C\"].id],\n",
    "        completeness = \"COMPLETE\"\n",
    "    ),\n",
    "    \"ε4\": models.Haplotype(\n",
    "        allele_ids = [alleles_by_name[\"rs429358C\"].id, alleles_by_name[\"rs7412C\"].id],\n",
    "        completeness = \"COMPLETE\"\n",
    "    ),\n",
    "}\n",
    "\n",
    "for n, h in haplotypes_by_name.items():\n",
    "    h.id = computed_id(h)\n",
    "    identifiers[h.id].append(models.Identifier(accession=n))"
   ]
  },
  {
   "cell_type": "code",
   "execution_count": 12,
   "metadata": {},
   "outputs": [
    {
     "name": "stdout",
     "output_type": "stream",
     "text": [
      "{\n",
      "    \"allele_ids\": [\n",
      "        \"VMC:GA_NfZPeapbh-xGxqxvGM8X2Jer4BoQJOja\",\n",
      "        \"VMC:GA_nx6G6W7tgdd4TfZ9ZGiBxhLO31oEmq8c\"\n",
      "    ],\n",
      "    \"completeness\": \"COMPLETE\",\n",
      "    \"id\": \"VMC:GH_SQqTwi0l0VhEMI2mMGFsin6sYpMnbez9\"\n",
      "}\n"
     ]
    }
   ],
   "source": [
    "ppj(haplotypes_by_name[\"ε4\"])"
   ]
  },
  {
   "cell_type": "code",
   "execution_count": 13,
   "metadata": {},
   "outputs": [
    {
     "name": "stdout",
     "output_type": "stream",
     "text": [
      "{\n",
      "    \"allele_ids\": [\n",
      "        \"VMC:GA_nx6G6W7tgdd4TfZ9ZGiBxhLO31oEmq8c\",\n",
      "        \"VMC:GA_NfZPeapbh-xGxqxvGM8X2Jer4BoQJOja\"\n",
      "    ],\n",
      "    \"completeness\": \"COMPLETE\",\n",
      "    \"id\": \"VMC:GH_SQqTwi0l0VhEMI2mMGFsin6sYpMnbez9\"\n",
      "}\n"
     ]
    }
   ],
   "source": [
    "# Reversing allele ids results in the same digest (that's good!)\n",
    "h_ε4r = models.Haplotype(\n",
    "        allele_ids = [alleles_by_name[\"rs7412C\"].id, alleles_by_name[\"rs429358C\"].id],\n",
    "        completeness = \"COMPLETE\"\n",
    ")\n",
    "h_ε4r.id = computed_id(h_ε4r)\n",
    "ppj(h_ε4r)"
   ]
  },
  {
   "cell_type": "markdown",
   "metadata": {},
   "source": [
    "## Genotypes"
   ]
  },
  {
   "cell_type": "code",
   "execution_count": 14,
   "metadata": {
    "collapsed": true
   },
   "outputs": [],
   "source": [
    "genotypes_by_name = {\n",
    "    \"ε2/ε3\": models.Genotype(\n",
    "        haplotype_ids = [haplotypes_by_name[\"ε2\"].id, haplotypes_by_name[\"ε3\"].id],\n",
    "        completeness = \"COMPLETE\"\n",
    "    ),\n",
    "    \"ε3/ε2\": models.Genotype(\n",
    "        haplotype_ids = [haplotypes_by_name[\"ε3\"].id, haplotypes_by_name[\"ε2\"].id],\n",
    "        completeness = \"COMPLETE\"\n",
    "    ),\n",
    "    \"ε4/ε4\": models.Genotype(\n",
    "        haplotype_ids = [haplotypes_by_name[\"ε4\"].id, haplotypes_by_name[\"ε4\"].id],\n",
    "        completeness = \"COMPLETE\"\n",
    "    ),\n",
    "}\n",
    "\n",
    "for n, h in genotypes_by_name.items():\n",
    "    h.id = computed_id(h)\n",
    "    identifiers[h.id].append(models.Identifier(accession=n))"
   ]
  },
  {
   "cell_type": "markdown",
   "metadata": {},
   "source": [
    "## Bundle Serialization, Validation, and Roundtripping"
   ]
  },
  {
   "cell_type": "code",
   "execution_count": 15,
   "metadata": {
    "collapsed": true
   },
   "outputs": [],
   "source": [
    "bundle = models.Vmcbundle(\n",
    "    meta=models.Meta(\n",
    "            generated_at=datetime.datetime.isoformat(datetime.datetime.now()),\n",
    "            vmc_version=0,\n",
    "        ),\n",
    "    locations = {o.id: o.as_dict() for o in locations_by_name.values()},\n",
    "    alleles = {o.id: o.as_dict() for o in alleles_by_name.values()},\n",
    "    haplotypes = {o.id: o.as_dict() for o in haplotypes_by_name.values()},\n",
    "    genotypes = {o.id: o.as_dict() for o in genotypes_by_name.values()},\n",
    "    identifiers = {n: [ir.as_dict() for ir in irs] for n, irs in identifiers.items()}\n",
    ")"
   ]
  },
  {
   "cell_type": "code",
   "execution_count": 16,
   "metadata": {},
   "outputs": [
    {
     "name": "stdout",
     "output_type": "stream",
     "text": [
      "{\n",
      "    \"alleles\": {\n",
      "        \"VMC:GA_5Zd4WePIpdwMddQ8j5_KkfAKbVPMh96i\": {\n",
      "            \"id\": \"VMC:GA_5Zd4WePIpdwMddQ8j5_KkfAKbVPMh96i\",\n",
      "            \"location_id\": \"VMC:GL_1vQegOig0Fpx8eny8biLzexkhIAWeOZr\",\n",
      "            \"state\": \"T\"\n",
      "        },\n",
      "        \"VMC:GA_NfZPeapbh-xGxqxvGM8X2Jer4BoQJOja\": {\n",
      "            \"id\": \"VMC:GA_NfZPeapbh-xGxqxvGM8X2Jer4BoQJOja\",\n",
      "            \"location_id\": \"VMC:GL_1vQegOig0Fpx8eny8biLzexkhIAWeOZr\",\n",
      "            \"state\": \"C\"\n",
      "        },\n",
      "        \"VMC:GA_nx6G6W7tgdd4TfZ9ZGiBxhLO31oEmq8c\": {\n",
      "            \"id\": \"VMC:GA_nx6G6W7tgdd4TfZ9ZGiBxhLO31oEmq8c\",\n",
      "            \"location_id\": \"VMC:GL_Nt3BHblGnII4w04gaNLtRfBv1AJh9yvL\",\n",
      "            \"state\": \"C\"\n",
      "        },\n",
      "        \"VMC:GA_s_N4tR8QoWlw0zWO-C5Ksnnd7iEwbiDW\": {\n",
      "            \"id\": \"VMC:GA_s_N4tR8QoWlw0zWO-C5Ksnnd7iEwbiDW\",\n",
      "            \"location_id\": \"VMC:GL_Nt3BHblGnII4w04gaNLtRfBv1AJh9yvL\",\n",
      "            \"state\": \"T\"\n",
      "        }\n",
      "    },\n",
      "    \"genotypes\": {\n",
      "        \"VMC:GG_IFk8MgNL6B4IA_O7QOM7JHGBuc6sLfuE\": {\n",
      "            \"completeness\": \"COMPLETE\",\n",
      "            \"haplotype_ids\": [\n",
      "                \"VMC:GH_SQqTwi0l0VhEMI2mMGFsin6sYpMnbez9\",\n",
      "                \"VMC:GH_SQqTwi0l0VhEMI2mMGFsin6sYpMnbez9\"\n",
      "            ],\n",
      "            \"id\": \"VMC:GG_IFk8MgNL6B4IA_O7QOM7JHGBuc6sLfuE\"\n",
      "        },\n",
      "        \"VMC:GG_MhXCrNzNi0_pGMOMYRV5kS-QTCn83rjP\": {\n",
      "            \"completeness\": \"COMPLETE\",\n",
      "            \"haplotype_ids\": [\n",
      "                \"VMC:GH_wzl-ep5T_SjstaYUERXY4wNLNrKfDaHD\",\n",
      "                \"VMC:GH_rafXVn4fkuM2sErSzI6b9gQPnCA6Wpvw\"\n",
      "            ],\n",
      "            \"id\": \"VMC:GG_MhXCrNzNi0_pGMOMYRV5kS-QTCn83rjP\"\n",
      "        }\n",
      "    },\n",
      "    \"haplotypes\": {\n",
      "        \"VMC:GH_SQqTwi0l0VhEMI2mMGFsin6sYpMnbez9\": {\n",
      "            \"allele_ids\": [\n",
      "                \"VMC:GA_NfZPeapbh-xGxqxvGM8X2Jer4BoQJOja\",\n",
      "                \"VMC:GA_nx6G6W7tgdd4TfZ9ZGiBxhLO31oEmq8c\"\n",
      "            ],\n",
      "            \"completeness\": \"COMPLETE\",\n",
      "            \"id\": \"VMC:GH_SQqTwi0l0VhEMI2mMGFsin6sYpMnbez9\"\n",
      "        },\n",
      "        \"VMC:GH_YDeS2G0nkQQAqBHY5HOX40k2VH0OZ6ZY\": {\n",
      "            \"allele_ids\": [\n",
      "                \"VMC:GA_NfZPeapbh-xGxqxvGM8X2Jer4BoQJOja\",\n",
      "                \"VMC:GA_s_N4tR8QoWlw0zWO-C5Ksnnd7iEwbiDW\"\n",
      "            ],\n",
      "            \"completeness\": \"COMPLETE\",\n",
      "            \"id\": \"VMC:GH_YDeS2G0nkQQAqBHY5HOX40k2VH0OZ6ZY\"\n",
      "        },\n",
      "        \"VMC:GH_rafXVn4fkuM2sErSzI6b9gQPnCA6Wpvw\": {\n",
      "            \"allele_ids\": [\n",
      "                \"VMC:GA_5Zd4WePIpdwMddQ8j5_KkfAKbVPMh96i\",\n",
      "                \"VMC:GA_s_N4tR8QoWlw0zWO-C5Ksnnd7iEwbiDW\"\n",
      "            ],\n",
      "            \"completeness\": \"COMPLETE\",\n",
      "            \"id\": \"VMC:GH_rafXVn4fkuM2sErSzI6b9gQPnCA6Wpvw\"\n",
      "        },\n",
      "        \"VMC:GH_wzl-ep5T_SjstaYUERXY4wNLNrKfDaHD\": {\n",
      "            \"allele_ids\": [\n",
      "                \"VMC:GA_5Zd4WePIpdwMddQ8j5_KkfAKbVPMh96i\",\n",
      "                \"VMC:GA_nx6G6W7tgdd4TfZ9ZGiBxhLO31oEmq8c\"\n",
      "            ],\n",
      "            \"completeness\": \"COMPLETE\",\n",
      "            \"id\": \"VMC:GH_wzl-ep5T_SjstaYUERXY4wNLNrKfDaHD\"\n",
      "        }\n",
      "    },\n",
      "    \"identifiers\": {\n",
      "        \"VMC:GA_5Zd4WePIpdwMddQ8j5_KkfAKbVPMh96i\": [\n",
      "            {\n",
      "                \"accession\": \"rs429358T\"\n",
      "            }\n",
      "        ],\n",
      "        \"VMC:GA_NfZPeapbh-xGxqxvGM8X2Jer4BoQJOja\": [\n",
      "            {\n",
      "                \"accession\": \"rs429358C\"\n",
      "            }\n",
      "        ],\n",
      "        \"VMC:GA_nx6G6W7tgdd4TfZ9ZGiBxhLO31oEmq8c\": [\n",
      "            {\n",
      "                \"accession\": \"rs7412C\"\n",
      "            }\n",
      "        ],\n",
      "        \"VMC:GA_s_N4tR8QoWlw0zWO-C5Ksnnd7iEwbiDW\": [\n",
      "            {\n",
      "                \"accession\": \"rs7412T\"\n",
      "            }\n",
      "        ],\n",
      "        \"VMC:GG_IFk8MgNL6B4IA_O7QOM7JHGBuc6sLfuE\": [\n",
      "            {\n",
      "                \"accession\": \"\\u03b54/\\u03b54\"\n",
      "            }\n",
      "        ],\n",
      "        \"VMC:GG_MhXCrNzNi0_pGMOMYRV5kS-QTCn83rjP\": [\n",
      "            {\n",
      "                \"accession\": \"\\u03b52/\\u03b53\"\n",
      "            },\n",
      "            {\n",
      "                \"accession\": \"\\u03b53/\\u03b52\"\n",
      "            }\n",
      "        ],\n",
      "        \"VMC:GH_SQqTwi0l0VhEMI2mMGFsin6sYpMnbez9\": [\n",
      "            {\n",
      "                \"accession\": \"\\u03b54\"\n",
      "            }\n",
      "        ],\n",
      "        \"VMC:GH_YDeS2G0nkQQAqBHY5HOX40k2VH0OZ6ZY\": [\n",
      "            {\n",
      "                \"accession\": \"\\u03b51\"\n",
      "            }\n",
      "        ],\n",
      "        \"VMC:GH_rafXVn4fkuM2sErSzI6b9gQPnCA6Wpvw\": [\n",
      "            {\n",
      "                \"accession\": \"\\u03b52\"\n",
      "            }\n",
      "        ],\n",
      "        \"VMC:GH_wzl-ep5T_SjstaYUERXY4wNLNrKfDaHD\": [\n",
      "            {\n",
      "                \"accession\": \"\\u03b53\"\n",
      "            }\n",
      "        ],\n",
      "        \"VMC:GL_1vQegOig0Fpx8eny8biLzexkhIAWeOZr\": [\n",
      "            {\n",
      "                \"accession\": \"rs429358\"\n",
      "            }\n",
      "        ],\n",
      "        \"VMC:GL_Nt3BHblGnII4w04gaNLtRfBv1AJh9yvL\": [\n",
      "            {\n",
      "                \"accession\": \"rs7412\"\n",
      "            }\n",
      "        ],\n",
      "        \"VMC:GS_IIB53T8CNeJJdUqzn9V_JnRtQadwWCbl\": [\n",
      "            {\n",
      "                \"accession\": \"NC_000019.10\",\n",
      "                \"namespace\": \"NCBI\"\n",
      "            }\n",
      "        ]\n",
      "    },\n",
      "    \"locations\": {\n",
      "        \"VMC:GL_1vQegOig0Fpx8eny8biLzexkhIAWeOZr\": {\n",
      "            \"id\": \"VMC:GL_1vQegOig0Fpx8eny8biLzexkhIAWeOZr\",\n",
      "            \"interval\": {\n",
      "                \"end\": 44908684,\n",
      "                \"start\": 44908683\n",
      "            },\n",
      "            \"sequence_id\": \"VMC:GS_IIB53T8CNeJJdUqzn9V_JnRtQadwWCbl\"\n",
      "        },\n",
      "        \"VMC:GL_Nt3BHblGnII4w04gaNLtRfBv1AJh9yvL\": {\n",
      "            \"id\": \"VMC:GL_Nt3BHblGnII4w04gaNLtRfBv1AJh9yvL\",\n",
      "            \"interval\": {\n",
      "                \"end\": 44908822,\n",
      "                \"start\": 44908821\n",
      "            },\n",
      "            \"sequence_id\": \"VMC:GS_IIB53T8CNeJJdUqzn9V_JnRtQadwWCbl\"\n",
      "        }\n",
      "    },\n",
      "    \"meta\": {\n",
      "        \"generated_at\": \"2017-05-18T07:50:59.471258\",\n",
      "        \"vmc_version\": 0\n",
      "    }\n",
      "}\n"
     ]
    }
   ],
   "source": [
    "ppj(bundle)"
   ]
  },
  {
   "cell_type": "markdown",
   "metadata": {},
   "source": [
    "### Validate against schema"
   ]
  },
  {
   "cell_type": "code",
   "execution_count": 17,
   "metadata": {
    "collapsed": true
   },
   "outputs": [],
   "source": [
    "s = bundle.serialize()  # same as above ppj(bundle), but not pretty printed"
   ]
  },
  {
   "cell_type": "code",
   "execution_count": 18,
   "metadata": {
    "collapsed": true
   },
   "outputs": [],
   "source": [
    "schema = json.load(open(schema_path))\n",
    "jsonschema.validate(bundle.as_dict(), schema)"
   ]
  },
  {
   "cell_type": "markdown",
   "metadata": {},
   "source": [
    "### Verify that bundle roundtrips to same structure"
   ]
  },
  {
   "cell_type": "code",
   "execution_count": 19,
   "metadata": {
    "collapsed": true
   },
   "outputs": [],
   "source": [
    "bundle_round_trip = models.Vmcbundle(**json.loads(s))"
   ]
  },
  {
   "cell_type": "code",
   "execution_count": 20,
   "metadata": {},
   "outputs": [
    {
     "data": {
      "text/plain": [
       "True"
      ]
     },
     "execution_count": 20,
     "metadata": {},
     "output_type": "execute_result"
    }
   ],
   "source": [
    "bundle == bundle_round_trip"
   ]
  },
  {
   "cell_type": "code",
   "execution_count": null,
   "metadata": {
    "collapsed": true
   },
   "outputs": [],
   "source": []
  }
 ],
 "metadata": {
  "kernelspec": {
   "display_name": "Python 3",
   "language": "python",
   "name": "python3"
  },
  "language_info": {
   "codemirror_mode": {
    "name": "ipython",
    "version": 3
   },
   "file_extension": ".py",
   "mimetype": "text/x-python",
   "name": "python",
   "nbconvert_exporter": "python",
   "pygments_lexer": "ipython3",
   "version": "3.5.3"
  }
 },
 "nbformat": 4,
 "nbformat_minor": 2
}
